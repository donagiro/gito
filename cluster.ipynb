{
 "cells": [
  {
   "cell_type": "code",
   "execution_count": 1,
   "id": "understood-enzyme",
   "metadata": {},
   "outputs": [
    {
     "name": "stderr",
     "output_type": "stream",
     "text": [
      "[nltk_data] Downloading package punkt to\n",
      "[nltk_data]     C:\\Users\\donag\\AppData\\Roaming\\nltk_data...\n",
      "[nltk_data]   Package punkt is already up-to-date!\n",
      "[nltk_data] Downloading package stopwords to\n",
      "[nltk_data]     C:\\Users\\donag\\AppData\\Roaming\\nltk_data...\n",
      "[nltk_data]   Package stopwords is already up-to-date!\n",
      "[nltk_data] Downloading package averaged_perceptron_tagger to\n",
      "[nltk_data]     C:\\Users\\donag\\AppData\\Roaming\\nltk_data...\n",
      "[nltk_data]   Package averaged_perceptron_tagger is already up-to-\n",
      "[nltk_data]       date!\n",
      "[nltk_data] Downloading package wordnet to\n",
      "[nltk_data]     C:\\Users\\donag\\AppData\\Roaming\\nltk_data...\n",
      "[nltk_data]   Package wordnet is already up-to-date!\n"
     ]
    }
   ],
   "source": [
    "import pandas as pd\n",
    "import numpy as np\n",
    "import matplotlib.pyplot as plt\n",
    "import seaborn as sns\n",
    "\n",
    "from smart_open import open\n",
    "import pprint\n",
    "import gensim\n",
    "#import gensim.downloader as api\n",
    "from gensim import corpora\n",
    "from gensim.utils import simple_preprocess \n",
    "from gensim import models \n",
    "from gensim.models import TfidfModel\n",
    "\n",
    "import nltk\n",
    "from nltk import word_tokenize\n",
    "from nltk import downloader\n",
    "nltk.download('punkt')\n",
    "\n",
    "import string\n",
    "import re\n",
    "from nltk.corpus import stopwords\n",
    "nltk.download('stopwords')\n",
    "\n",
    "from nltk.stem.porter import PorterStemmer\n",
    "from nltk import pos_tag\n",
    "nltk.download('averaged_perceptron_tagger')\n",
    "\n",
    "from nltk.stem import WordNetLemmatizer\n",
    "nltk.download('wordnet')\n",
    "\n",
    "import heapq "
   ]
  },
  {
   "cell_type": "code",
   "execution_count": 2,
   "id": "future-orientation",
   "metadata": {},
   "outputs": [],
   "source": [
    "#df = pd.read_csv(\"./input/Mall_Customers.csv\")\n",
    "df = pd.read_csv(\"./input/covid.csv\")"
   ]
  },
  {
   "cell_type": "code",
   "execution_count": 3,
   "id": "acute-hearts",
   "metadata": {},
   "outputs": [
    {
     "data": {
      "text/html": [
       "<div>\n",
       "<style scoped>\n",
       "    .dataframe tbody tr th:only-of-type {\n",
       "        vertical-align: middle;\n",
       "    }\n",
       "\n",
       "    .dataframe tbody tr th {\n",
       "        vertical-align: top;\n",
       "    }\n",
       "\n",
       "    .dataframe thead th {\n",
       "        text-align: right;\n",
       "    }\n",
       "</style>\n",
       "<table border=\"1\" class=\"dataframe\">\n",
       "  <thead>\n",
       "    <tr style=\"text-align: right;\">\n",
       "      <th></th>\n",
       "      <th>UserName</th>\n",
       "      <th>ScreenName</th>\n",
       "      <th>Location</th>\n",
       "      <th>TweetAt</th>\n",
       "      <th>OriginalTweet</th>\n",
       "      <th>Sentiment</th>\n",
       "    </tr>\n",
       "  </thead>\n",
       "  <tbody>\n",
       "    <tr>\n",
       "      <th>0</th>\n",
       "      <td>1</td>\n",
       "      <td>44953</td>\n",
       "      <td>NYC</td>\n",
       "      <td>02-03-2020</td>\n",
       "      <td>TRENDING: New Yorkers encounter empty supermar...</td>\n",
       "      <td>Extremely Negative</td>\n",
       "    </tr>\n",
       "    <tr>\n",
       "      <th>1</th>\n",
       "      <td>2</td>\n",
       "      <td>44954</td>\n",
       "      <td>Seattle, WA</td>\n",
       "      <td>02-03-2020</td>\n",
       "      <td>When I couldn't find hand sanitizer at Fred Me...</td>\n",
       "      <td>Positive</td>\n",
       "    </tr>\n",
       "    <tr>\n",
       "      <th>2</th>\n",
       "      <td>3</td>\n",
       "      <td>44955</td>\n",
       "      <td>NaN</td>\n",
       "      <td>02-03-2020</td>\n",
       "      <td>Find out how you can protect yourself and love...</td>\n",
       "      <td>Extremely Positive</td>\n",
       "    </tr>\n",
       "    <tr>\n",
       "      <th>3</th>\n",
       "      <td>4</td>\n",
       "      <td>44956</td>\n",
       "      <td>Chicagoland</td>\n",
       "      <td>02-03-2020</td>\n",
       "      <td>#Panic buying hits #NewYork City as anxious sh...</td>\n",
       "      <td>Negative</td>\n",
       "    </tr>\n",
       "    <tr>\n",
       "      <th>4</th>\n",
       "      <td>5</td>\n",
       "      <td>44957</td>\n",
       "      <td>Melbourne, Victoria</td>\n",
       "      <td>03-03-2020</td>\n",
       "      <td>#toiletpaper #dunnypaper #coronavirus #coronav...</td>\n",
       "      <td>Neutral</td>\n",
       "    </tr>\n",
       "  </tbody>\n",
       "</table>\n",
       "</div>"
      ],
      "text/plain": [
       "   UserName  ScreenName             Location     TweetAt  \\\n",
       "0         1       44953                  NYC  02-03-2020   \n",
       "1         2       44954          Seattle, WA  02-03-2020   \n",
       "2         3       44955                  NaN  02-03-2020   \n",
       "3         4       44956          Chicagoland  02-03-2020   \n",
       "4         5       44957  Melbourne, Victoria  03-03-2020   \n",
       "\n",
       "                                       OriginalTweet           Sentiment  \n",
       "0  TRENDING: New Yorkers encounter empty supermar...  Extremely Negative  \n",
       "1  When I couldn't find hand sanitizer at Fred Me...            Positive  \n",
       "2  Find out how you can protect yourself and love...  Extremely Positive  \n",
       "3  #Panic buying hits #NewYork City as anxious sh...            Negative  \n",
       "4  #toiletpaper #dunnypaper #coronavirus #coronav...             Neutral  "
      ]
     },
     "execution_count": 3,
     "metadata": {},
     "output_type": "execute_result"
    }
   ],
   "source": [
    "df.head()"
   ]
  },
  {
   "cell_type": "code",
   "execution_count": 4,
   "id": "architectural-vertical",
   "metadata": {},
   "outputs": [
    {
     "data": {
      "image/png": "[encoded data removed]",
      "text/plain": [
       "<Figure size 432x288 with 1 Axes>"
      ]
     },
     "metadata": {
      "needs_background": "light"
     },
     "output_type": "display_data"
    }
   ],
   "source": [
    "ax = sns.countplot(x=\"Sentiment\", data=df)"
   ]
  },
  {
   "cell_type": "code",
   "execution_count": 5,
   "id": "equivalent-minneapolis",
   "metadata": {},
   "outputs": [
    {
     "data": {
      "text/plain": [
       "0    TRENDING: New Yorkers encounter empty supermar...\n",
       "1    When I couldn't find hand sanitizer at Fred Me...\n",
       "2    Find out how you can protect yourself and love...\n",
       "Name: OriginalTweet, dtype: object"
      ]
     },
     "execution_count": 5,
     "metadata": {},
     "output_type": "execute_result"
    }
   ],
   "source": [
    "train = df.OriginalTweet\n",
    "train.head(3)"
   ]
  },
  {
   "cell_type": "code",
   "execution_count": 6,
   "id": "sized-intake",
   "metadata": {},
   "outputs": [
    {
     "data": {
      "text/plain": [
       "(3798,)"
      ]
     },
     "execution_count": 6,
     "metadata": {},
     "output_type": "execute_result"
    }
   ],
   "source": [
    "train.shape"
   ]
  },
  {
   "cell_type": "code",
   "execution_count": 7,
   "id": "isolated-burton",
   "metadata": {},
   "outputs": [
    {
     "data": {
      "text/plain": [
       "0    TRENDING: New Yorkers encounter empty supermar...\n",
       "1    When I couldn't find hand sanitizer at Fred Me...\n",
       "Name: OriginalTweet, dtype: object"
      ]
     },
     "execution_count": 7,
     "metadata": {},
     "output_type": "execute_result"
    }
   ],
   "source": [
    "#train = df.OriginalTweet\n",
    "train.to_numpy()\n",
    "train[:2]"
   ]
  },
  {
   "cell_type": "markdown",
   "id": "charged-tunisia",
   "metadata": {},
   "source": [
    "# NLP"
   ]
  },
  {
   "cell_type": "code",
   "execution_count": null,
   "id": "unlike-import",
   "metadata": {},
   "outputs": [],
   "source": [
    "# define lemmatizer, stop words and string\n",
    "wordnet_lemmatizer = WordNetLemmatizer()\n",
    "stop_words = set(stopwords.words('english'))\n",
    "string.punctuation"
   ]
  },
  {
   "cell_type": "code",
   "execution_count": null,
   "id": "adequate-adapter",
   "metadata": {},
   "outputs": [],
   "source": [
    "# TEXT PREPROCESSING FUNCTION\n",
    "def prep(x):\n",
    "    X_p = []\n",
    "    for sp in x:\n",
    "        sp = re.sub(r'\\d+', '', str(sp))\n",
    "        sp = re.sub(r'https?:\\/\\/.*[\\r\\n]*', '', str(sp), flags=re.MULTILINE)\n",
    "        sp = \"\".join([char for char in sp if char not in string.punctuation])\n",
    "        spl = sp.lower()\n",
    "        sps = re.sub('\\s+', ' ', spl).strip()\n",
    "        word_tokens = word_tokenize(sps)\n",
    "        filtered_result = list(filter(lambda l: l not in stop_words, word_tokens))\n",
    "        lemmas = [wordnet_lemmatizer.lemmatize(t) for t in filtered_result]\n",
    "        \n",
    "        X_p.append(lemmas)\n",
    "    return X_p"
   ]
  },
  {
   "cell_type": "code",
   "execution_count": null,
   "id": "challenging-costa",
   "metadata": {},
   "outputs": [],
   "source": [
    "X = prep(train)\n",
    "X[:2]"
   ]
  },
  {
   "cell_type": "code",
   "execution_count": null,
   "id": "settled-calculator",
   "metadata": {},
   "outputs": [],
   "source": [
    "# number of documents/lists inside the Main List\n",
    "len(X)"
   ]
  },
  {
   "cell_type": "code",
   "execution_count": null,
   "id": "vocational-romantic",
   "metadata": {},
   "outputs": [],
   "source": [
    "# function prepare \"main list of documents\" with this function for the Gensim doc2vec model\n",
    "def tagged_document(list_of_list_of_words):\n",
    "    for i, list_of_words in enumerate(list_of_list_of_words):\n",
    "        yield gensim.models.doc2vec.TaggedDocument(list_of_words, [i])"
   ]
  },
  {
   "cell_type": "code",
   "execution_count": null,
   "id": "chicken-netherlands",
   "metadata": {},
   "outputs": [],
   "source": [
    "# process \"main list of documents\" for the Gensim doc2vec model\n",
    "data_for_training = list(tagged_document(X))\n",
    "print(data_for_training[:1])"
   ]
  },
  {
   "cell_type": "code",
   "execution_count": null,
   "id": "latest-inclusion",
   "metadata": {},
   "outputs": [],
   "source": [
    "len(data_for_training)"
   ]
  },
  {
   "cell_type": "markdown",
   "id": "imported-smith",
   "metadata": {},
   "source": [
    "# Building our Doc2Vec using Gensim"
   ]
  },
  {
   "cell_type": "code",
   "execution_count": null,
   "id": "suburban-parade",
   "metadata": {},
   "outputs": [],
   "source": [
    "model = gensim.models.doc2vec.Doc2Vec(vector_size=1000, min_count=2, epochs=20)\n",
    "model.build_vocab(data_for_training)\n",
    "model.train(data_for_training, total_examples=model.corpus_count, epochs=model.epochs)"
   ]
  },
  {
   "cell_type": "code",
   "execution_count": null,
   "id": "aggressive-arabic",
   "metadata": {},
   "outputs": [],
   "source": [
    "#save model vectors to a variable\n",
    "vectors = model.wv"
   ]
  },
  {
   "cell_type": "code",
   "execution_count": null,
   "id": "federal-relation",
   "metadata": {},
   "outputs": [],
   "source": [
    "#explore word similarities using our vector space\n",
    "print(vectors.similarity('good', 'take'))\n",
    "print(vectors.similarity('good', 'true'))"
   ]
  },
  {
   "cell_type": "code",
   "execution_count": null,
   "id": "packed-verse",
   "metadata": {},
   "outputs": [],
   "source": [
    "# find words most similar or close to the word go\n",
    "vectors.most_similar('go')"
   ]
  },
  {
   "cell_type": "code",
   "execution_count": null,
   "id": "circular-plain",
   "metadata": {},
   "outputs": [],
   "source": [
    "len(model.wv.vocab)"
   ]
  },
  {
   "cell_type": "code",
   "execution_count": null,
   "id": "agricultural-divorce",
   "metadata": {},
   "outputs": [],
   "source": [
    "# build a list of the terms, integer indices,\n",
    "# and term counts from the doc2vec model vocabulary\n",
    "ordered_vocab = [(term, voc.index, voc.count) for term, voc in model.wv.vocab.items()]\n",
    "\n",
    "# sort by the term counts, so the most common terms appear first\n",
    "ordered_vocab = sorted(ordered_vocab, key=lambda k: -k[2])\n",
    "\n",
    "# unzip the terms, integer indices, and counts into separate lists\n",
    "ordered_terms, term_indices, term_counts = zip(*ordered_vocab)\n",
    "\n",
    "# create a DataFrame with the doc2vec vectors as data,\n",
    "# and the terms as row labels\n",
    "word_vectors = pd.DataFrame(model.wv.syn0norm[term_indices, :], index=ordered_terms)"
   ]
  },
  {
   "cell_type": "code",
   "execution_count": null,
   "id": "other-holder",
   "metadata": {},
   "outputs": [],
   "source": [
    "# Transpose document vector\n",
    "word_vectorst = word_vectors.T"
   ]
  },
  {
   "cell_type": "code",
   "execution_count": null,
   "id": "improving-bikini",
   "metadata": {},
   "outputs": [],
   "source": [
    "# display head of our document vector space\n",
    "word_vectorst.head()"
   ]
  },
  {
   "cell_type": "code",
   "execution_count": null,
   "id": "liked-spending",
   "metadata": {},
   "outputs": [],
   "source": [
    "word_vectorst.shape"
   ]
  },
  {
   "cell_type": "code",
   "execution_count": 11,
   "id": "nasty-ukraine",
   "metadata": {},
   "outputs": [],
   "source": [
    "def PCA(X , num_components):\n",
    "     \n",
    "    #Step-1\n",
    "    X_meaned = X - np.mean(X , axis = 0)\n",
    "     \n",
    "    #Step-2\n",
    "    cov_mat = np.cov(X_meaned , rowvar = False)\n",
    "     \n",
    "    #Step-3\n",
    "    eigen_values , eigen_vectors = np.linalg.eigh(cov_mat)\n",
    "     \n",
    "    #Step-4\n",
    "    sorted_index = np.argsort(eigen_values)[::-1]\n",
    "    sorted_eigenvalue = eigen_values[sorted_index]\n",
    "    sorted_eigenvectors = eigen_vectors[:,sorted_index]\n",
    "     \n",
    "    #Step-5\n",
    "    eigenvector_subset = sorted_eigenvectors[:,0:num_components]\n",
    "     \n",
    "    #Step-6\n",
    "    X_reduced = np.dot(eigenvector_subset.transpose() , X_meaned.transpose() ).transpose()\n",
    "     \n",
    "    return X_reduced"
   ]
  },
  {
   "cell_type": "code",
   "execution_count": 18,
   "id": "surgical-medicare",
   "metadata": {},
   "outputs": [],
   "source": [
    "#Applying PCA function\n",
    "mat_reduced = PCA(word_vectorst, 2)\n",
    " \n",
    "# #Creating a Pandas DataFrame of reduced Dataset\n",
    "principal_df = pd.DataFrame(mat_reduced , columns = ['PC1','PC2'])"
   ]
  },
  {
   "cell_type": "code",
   "execution_count": 13,
   "id": "social-puppy",
   "metadata": {},
   "outputs": [
    {
     "name": "stdout",
     "output_type": "stream",
     "text": [
      "           PC1        PC2\n",
      "0   -31.870508 -33.001425\n",
      "1     0.763397 -56.843865\n",
      "2   -57.408726 -13.122936\n",
      "3    -2.169896 -53.477905\n",
      "4   -32.174920 -30.387005\n",
      "..         ...        ...\n",
      "195  58.353072  31.016926\n",
      "196  19.909355  66.446425\n",
      "197  58.521858  38.343853\n",
      "198  20.981105  79.375146\n",
      "199  72.448826  41.808833\n",
      "\n",
      "[200 rows x 2 columns]\n"
     ]
    }
   ],
   "source": [
    "print(principal_df)"
   ]
  },
  {
   "cell_type": "code",
   "execution_count": 19,
   "id": "danish-tuition",
   "metadata": {},
   "outputs": [],
   "source": [
    "db_data = principal_df.to_numpy()\n",
    "#xa = dfe.to_numpy()"
   ]
  },
  {
   "cell_type": "code",
   "execution_count": 15,
   "id": "informal-angle",
   "metadata": {},
   "outputs": [],
   "source": [
    "from pyclustering.cluster.dbscan import dbscan\n",
    "from pyclustering.cluster import cluster_visualizer\n",
    "from pyclustering.utils import read_sample\n",
    "from pyclustering.samples.definitions import FCPS_SAMPLES"
   ]
  },
  {
   "cell_type": "code",
   "execution_count": 20,
   "id": "commercial-nursing",
   "metadata": {},
   "outputs": [
    {
     "data": {
      "image/png": "[encoded data removed]",
      "text/plain": [
       "<Figure size 432x288 with 1 Axes>"
      ]
     },
     "metadata": {
      "needs_background": "light"
     },
     "output_type": "display_data"
    },
    {
     "data": {
      "image/png": "[encoded data removed]",
      "text/plain": [
       "<Figure size 432x288 with 1 Axes>"
      ]
     },
     "execution_count": 20,
     "metadata": {},
     "output_type": "execute_result"
    }
   ],
   "source": [
    "dbscan_instance = dbscan(xa, 0.7, 3)\n",
    "\n",
    "# Start processing by DBSCAN.\n",
    "dbscan_instance.process()\n",
    "\n",
    "# Obtain results of clustering.\n",
    "clusters = dbscan_instance.get_clusters()\n",
    "noise = dbscan_instance.get_noise()\n",
    "\n",
    "# Visualize clustering results\n",
    "visualizer = cluster_visualizer()\n",
    "visualizer.append_clusters(clusters, xa)\n",
    "\n",
    "visualizer.append_cluster(noise, xa, marker='x')\n",
    "visualizer.show()"
   ]
  },
  {
   "cell_type": "code",
   "execution_count": null,
   "id": "inside-affair",
   "metadata": {},
   "outputs": [],
   "source": []
  },
  {
   "cell_type": "code",
   "execution_count": null,
   "id": "uniform-carrier",
   "metadata": {},
   "outputs": [],
   "source": []
  },
  {
   "cell_type": "code",
   "execution_count": null,
   "id": "minute-petersburg",
   "metadata": {},
   "outputs": [],
   "source": []
  },
  {
   "cell_type": "code",
   "execution_count": null,
   "id": "stainless-trigger",
   "metadata": {},
   "outputs": [],
   "source": []
  },
  {
   "cell_type": "code",
   "execution_count": null,
   "id": "reported-footage",
   "metadata": {},
   "outputs": [],
   "source": []
  },
  {
   "cell_type": "code",
   "execution_count": null,
   "id": "verbal-africa",
   "metadata": {},
   "outputs": [],
   "source": []
  }
 ],
 "metadata": {
  "kernelspec": {
   "display_name": "Python 3",
   "language": "python",
   "name": "python3"
  },
  "language_info": {
   "codemirror_mode": {
    "name": "ipython",
    "version": 3
   },
   "file_extension": ".py",
   "mimetype": "text/x-python",
   "name": "python",
   "nbconvert_exporter": "python",
   "pygments_lexer": "ipython3",
   "version": "3.8.5"
  }
 },
 "nbformat": 4,
 "nbformat_minor": 5
}
